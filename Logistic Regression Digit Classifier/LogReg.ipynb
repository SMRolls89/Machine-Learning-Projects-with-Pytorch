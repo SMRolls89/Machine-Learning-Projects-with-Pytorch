{
  "nbformat": 4,
  "nbformat_minor": 0,
  "metadata": {
    "colab": {
      "name": "LogReg.ipynb",
      "provenance": [],
      "collapsed_sections": []
    },
    "kernelspec": {
      "name": "python3",
      "display_name": "Python 3"
    },
    "language_info": {
      "name": "python"
    }
  },
  "cells": [
    {
      "cell_type": "code",
      "metadata": {
        "id": "2x-llamuqnlE"
      },
      "source": [
        "import torch\n",
        "import numpy as np\n",
        "from matplotlib import pyplot as plt"
      ],
      "execution_count": 1,
      "outputs": []
    },
    {
      "cell_type": "markdown",
      "metadata": {
        "id": "gRtzGX4ckISU"
      },
      "source": [
        "# Part C"
      ]
    },
    {
      "cell_type": "code",
      "metadata": {
        "id": "X8LmOOpUq6MG"
      },
      "source": [
        "# TODO adjust these hyperparameters to get a good classifier\n",
        "threshold = 120\n",
        "num_iter = 20\n",
        "learning_rate = 0.1\n",
        "reg_factor = 0.00001"
      ],
      "execution_count": 198,
      "outputs": []
    },
    {
      "cell_type": "code",
      "metadata": {
        "id": "FnTNsmFkrL68"
      },
      "source": [
        "\"\"\"\n",
        "Read data from the specified training, validation and test data files.\n",
        "\"\"\"\n",
        "\n",
        "def read_data(trainFile, valFile, testFile):\n",
        "    features = []\n",
        "    labels = []\n",
        "\n",
        "    # read training, test, and validation data\n",
        "    for file in [trainFile, valFile, testFile]:\n",
        "        # read data\n",
        "        data = np.loadtxt(file)\n",
        "\n",
        "        # transform into our feature space with \"fe()\"\n",
        "        features.append(fe(torch.tensor(data[:,:-1])))\n",
        "\n",
        "        labels.append(torch.tensor(data[:,-1]))\n",
        "    \n",
        "    return features[0], labels[0], features[1], labels[1], features[2], labels[2]"
      ],
      "execution_count": 3,
      "outputs": []
    },
    {
      "cell_type": "code",
      "metadata": {
        "id": "BemeAwOEsb_h"
      },
      "source": [
        "\"\"\"\n",
        "Feature that counts the number of pixels above a specified threshold\n",
        "in each row and column.\n",
        "\"\"\"\n",
        "def fe(X):\n",
        "    # get a \"binary image\" indicator of pixels above and below the threshold\n",
        "    X_binary = torch.where(X > threshold,\n",
        "        torch.ones_like(X),torch.zeros_like(X)).reshape(-1,28,28)\n",
        "    \n",
        "    # calculate row and column features\n",
        "    X_row = X_binary.sum(dim=1)\n",
        "    X_col = X_binary.sum(dim=2)\n",
        "\n",
        "    # include a row of ones at the end for bias\n",
        "    return torch.cat([X_row, X_col, torch.ones(X_row.shape[0], \n",
        "        1, dtype=torch.float64)], dim=1)"
      ],
      "execution_count": 4,
      "outputs": []
    },
    {
      "cell_type": "code",
      "metadata": {
        "id": "WJ3tD2MCsfdi"
      },
      "source": [
        "\"\"\"\n",
        "Convert \"y\" into its one-hot-encoding equivalent.\n",
        "\"\"\"\n",
        "def one_hot(y):\n",
        "    y_one_hot = torch.zeros([y.shape[0], 10], dtype=torch.float64)\n",
        "    return y_one_hot.scatter(1, y.reshape(-1, 1).to(torch.long), 1)"
      ],
      "execution_count": 5,
      "outputs": []
    },
    {
      "cell_type": "code",
      "metadata": {
        "id": "vA1J8Tlps6sK"
      },
      "source": [
        "\"\"\"\n",
        "Get the scores for each class for each training point.\n",
        "\"\"\"\n",
        "def get_scores(X, w):\n",
        "    score = torch.exp(torch.mm(X,torch.transpose(w,0,1)))/torch.exp(torch.mm(X,torch.transpose(w,0,1))).sum(dim = 1,keepdim=True)\n",
        "    return score"
      ],
      "execution_count": 14,
      "outputs": []
    },
    {
      "cell_type": "code",
      "metadata": {
        "id": "jmvq2bFbtS4z"
      },
      "source": [
        "def train(X,y):\n",
        "    # convert index labels of y into a one-hot encoding\n",
        "    one_hot_y = one_hot(y)\n",
        "\n",
        "    # loss list over iterations for plotting\n",
        "    losses = []\n",
        "\n",
        "    # initialize model weights\n",
        "    w = torch.rand((10, X.shape[1]), dtype=torch.float64, requires_grad=True)\n",
        "\n",
        "    # gradient descent loop\n",
        "    # TODO for part (d): modify code below to perform stochastic gradient descent\n",
        "    i = 0\n",
        "    while i < num_iter:\n",
        "        y_pred = torch.exp(torch.mm(X,torch.transpose(w,0,1)))/torch.exp(torch.mm(X,torch.transpose(w,0,1))).sum(dim = 1,keepdim=True)\n",
        "        ls = -torch.mean(torch.sum(one_hot_y * torch.log(y_pred), dim=-1))\n",
        "        loss = ls + reg_factor * torch.sum(w ** 2)\n",
        "        \n",
        "        # calculate loss gradient \n",
        "        loss.backward()\n",
        "\n",
        "        # save for plotting\n",
        "        #if (i+1)%5==0:\n",
        "        losses.append(loss.item())\n",
        "\n",
        "        # TODO try using different optimization methods here\n",
        "        with torch.no_grad():\n",
        "            w.sub_(learning_rate * w.grad)\n",
        "        w.grad.data.zero_()\n",
        "        \n",
        "        i += 1\n",
        "\n",
        "    return w, losses"
      ],
      "execution_count": 189,
      "outputs": []
    },
    {
      "cell_type": "code",
      "metadata": {
        "id": "wnZDm2-Dtgrx"
      },
      "source": [
        "def predict(X, w):\n",
        "    # get scores for each class for each input\n",
        "    scores = get_scores(X, w)\n",
        "    # find the index of the maximum score for each input,\n",
        "    # which happens to exactly correspond to the label!\n",
        "    return torch.argmax(scores, dim=1)"
      ],
      "execution_count": 11,
      "outputs": []
    },
    {
      "cell_type": "code",
      "metadata": {
        "id": "Ia8BfLSztnBA"
      },
      "source": [
        "\"\"\"\n",
        "Evaluate the model parameterized by \"w\", using unseen data features \"X\" and\n",
        "corresponding labels \"y\".\n",
        "\"\"\"\n",
        "def evaluate(X, y, w):\n",
        "    # use model to get predictions\n",
        "    predictions = predict(X, w)\n",
        "    \n",
        "    # total number of items in dataset\n",
        "    total = y.shape[0]\n",
        "\n",
        "    # number of correctly labeled items in dataset\n",
        "    correct = torch.sum(predictions == y.long())\n",
        "\n",
        "    # return fraction of correctly labeled items in dataset\n",
        "    return float(correct) / float(total),predictions"
      ],
      "execution_count": 9,
      "outputs": []
    },
    {
      "cell_type": "code",
      "metadata": {
        "colab": {
          "base_uri": "https://localhost:8080/",
          "height": 329
        },
        "id": "byRoy2125-gq",
        "outputId": "5f9d8b28-093d-472d-d2fe-aaf6051799b8"
      },
      "source": [
        "if __name__ == \"__main__\":\n",
        "    # load data from file\n",
        "    train_vec, train_lab, val_vec, val_lab, test_vec, test_lab = read_data('hw0train.txt','hw0validate.txt', 'hw0test.txt')\n",
        "\n",
        "    print('Dimenison of X: ',train_vec.shape)\n",
        "\n",
        "    # find w through gradient descent\n",
        "    w, losses = train(train_vec,train_lab)\n",
        "\n",
        "    # evaluate model on validation data\n",
        "    accuracy,m = evaluate(val_vec, val_lab, w)\n",
        "\n",
        "    print(\"Validation accuracy: {}\".format(accuracy))\n",
        "\n",
        "    # plot losses\n",
        "    plt.plot(losses)\n",
        "    plt.xlabel(\"Iteration\")\n",
        "    plt.ylabel(\"Loss\")\n",
        "    plt.title(\"Loss plot\")\n",
        "    plt.show()"
      ],
      "execution_count": 145,
      "outputs": [
        {
          "output_type": "stream",
          "name": "stdout",
          "text": [
            "Dimenison of X:  torch.Size([2000, 57])\n",
            "Validation accuracy: 0.544\n"
          ]
        },
        {
          "output_type": "display_data",
          "data": {
            "image/png": "[encoded data removed]",
            "text/plain": [
              "<Figure size 432x288 with 1 Axes>"
            ]
          },
          "metadata": {
            "needs_background": "light"
          }
        }
      ]
    },
    {
      "cell_type": "markdown",
      "metadata": {
        "id": "yPyO7FEqi_HN"
      },
      "source": [
        "## Value of Parameter for which we get best Accuracy\n",
        "### lambda : 0.00001\n",
        "### learning_rate : 0.1\n",
        "### threshold : 120\n",
        "### num_iter : 20\n"
      ]
    },
    {
      "cell_type": "markdown",
      "metadata": {
        "id": "M2uJCyeAkSNf"
      },
      "source": [
        "# Part D"
      ]
    },
    {
      "cell_type": "code",
      "metadata": {
        "id": "ObuYVUQYgwD3"
      },
      "source": [
        "# TODO adjust these hyperparameters to get a good classifier\n",
        "threshold = 120\n",
        "num_iter_sgd = 20\n",
        "learning_rate_sgd = 0.00003\n",
        "reg_factor_sgd = 0.000001"
      ],
      "execution_count": 46,
      "outputs": []
    },
    {
      "cell_type": "code",
      "metadata": {
        "id": "4Om5qIQrkXc9"
      },
      "source": [
        "def train_sgd(X,y):\n",
        "    # convert index labels of y into a one-hot encoding\n",
        "    one_hot_y = one_hot(y)\n",
        "\n",
        "    # loss list over iterations for plotting\n",
        "    losses = []\n",
        "\n",
        "    # initialize model weights\n",
        "    w = torch.rand((10, X.shape[1]), dtype=torch.float64, requires_grad=True)\n",
        "\n",
        "    # gradient descent loop\n",
        "    k = 0\n",
        "    while k < num_iter_sgd:\n",
        "      for i,j in zip(X,one_hot_y):\n",
        "        y_pred = torch.exp(torch.matmul(i,torch.transpose(w,0,1)))/torch.sum(torch.exp(torch.matmul(i,torch.transpose(w,0,1))))\n",
        "        ls = -torch.mean(torch.sum(j * torch.log(y_pred.view(-1))))\n",
        "        loss = ls+ reg_factor_sgd * torch.sum(w ** 2)\n",
        "        \n",
        "        # calculate loss gradient \n",
        "        loss.backward()\n",
        "\n",
        "        # save for plotting\n",
        "        # TODO try using different optimization methods here\n",
        "        with torch.no_grad():\n",
        "            w.sub_(learning_rate_sgd * w.grad)\n",
        "        w.grad.data.zero_()\n",
        "        \n",
        "        \n",
        "      losses.append(loss.item())  \n",
        "      k += 1\n",
        "\n",
        "    return w, losses"
      ],
      "execution_count": 187,
      "outputs": []
    },
    {
      "cell_type": "code",
      "metadata": {
        "colab": {
          "base_uri": "https://localhost:8080/",
          "height": 329
        },
        "id": "sih9BKJxk_Dz",
        "outputId": "5cd0bd0f-8d0b-4137-c16e-e61f14cb26a2"
      },
      "source": [
        "if __name__ == \"__main__\":\n",
        "    # load data from file\n",
        "    train_vec, train_lab, val_vec, val_lab, test_vec, test_lab = read_data('hw0train.txt','hw0validate.txt', 'hw0test.txt')\n",
        "    print('Dimenison of X: ',train_vec.shape)\n",
        "    # find w through gradient descent\n",
        "    w_sgd, losses_sgd = train_sgd(train_vec,train_lab)\n",
        "\n",
        "    # evaluate model on validation data\n",
        "    accuracy,m = evaluate(val_vec, val_lab, w_sgd)\n",
        "\n",
        "    print(\"Validation accuracy: {}\".format(accuracy))\n",
        "\n",
        "    # plot losses\n",
        "    plt.plot(losses_sgd)\n",
        "    plt.xlabel(\"Iteration\")\n",
        "    plt.ylabel(\"Loss\")\n",
        "    plt.title(\"Loss plot\")\n",
        "    plt.show()"
      ],
      "execution_count": 190,
      "outputs": [
        {
          "output_type": "stream",
          "name": "stdout",
          "text": [
            "Dimenison of X:  torch.Size([2000, 57])\n",
            "Validation accuracy: 0.414\n"
          ]
        },
        {
          "output_type": "display_data",
          "data": {
            "image/png": "[encoded data removed]",
            "text/plain": [
              "<Figure size 432x288 with 1 Axes>"
            ]
          },
          "metadata": {
            "needs_background": "light"
          }
        }
      ]
    },
    {
      "cell_type": "markdown",
      "metadata": {
        "id": "Xu7GcDG9oxsa"
      },
      "source": [
        "# Best Parameters for the Part D\n",
        "### lambda : 0.000001\n",
        "### learning_rate :  0.00003\n",
        "### threshold : 150\n",
        "### num_iter : 20"
      ]
    },
    {
      "cell_type": "markdown",
      "metadata": {
        "id": "mUUINZ7kr2mP"
      },
      "source": [
        "# Part E"
      ]
    },
    {
      "cell_type": "code",
      "metadata": {
        "id": "Tio2OQA4sv75"
      },
      "source": [
        "# TODO adjust these hyperparameters to get a good classifier\n",
        "threshold = 150\n",
        "num_iter_E = 60\n",
        "learning_rate_E = 0.1\n",
        "reg_factor_E = 0.01"
      ],
      "execution_count": 51,
      "outputs": []
    },
    {
      "cell_type": "code",
      "metadata": {
        "id": "YMmWD-A7pAcB"
      },
      "source": [
        "def train_E(X,y):\n",
        "    # convert index labels of y into a one-hot encoding\n",
        "    one_hot_y = one_hot(y)\n",
        "\n",
        "    # loss list over iterations for plotting\n",
        "    losses = []\n",
        "\n",
        "    # initialize model weights\n",
        "    w = torch.rand((10, X.shape[1]), dtype=torch.float64, requires_grad=True)\n",
        "    model  = [w]\n",
        "\n",
        "    optimizer = torch.optim.Adagrad(model,lr=learning_rate_E) # Optimizer used Adagrad\n",
        "    # gradient descent loop\n",
        "    i = 0\n",
        "    while i < num_iter_E:\n",
        "        optimizer.zero_grad()\n",
        "\n",
        "        y_pred = torch.exp(torch.mm(X,torch.transpose(w,0,1)))/torch.exp(torch.mm(X,torch.transpose(w,0,1))).sum(dim = 1,keepdim=True)\n",
        "        ls = -torch.mean(torch.sum(one_hot_y * torch.log(y_pred), dim=-1))\n",
        "        loss = ls+ reg_factor_E * torch.sum(w ** 2)\n",
        "        \n",
        "        # calculate loss gradient \n",
        "        loss.backward()\n",
        "        optimizer.step()\n",
        "        # save for plotting\n",
        "        losses.append(loss.item())\n",
        "        \n",
        "        i += 1\n",
        "\n",
        "    return w, losses"
      ],
      "execution_count": 52,
      "outputs": []
    },
    {
      "cell_type": "code",
      "metadata": {
        "colab": {
          "base_uri": "https://localhost:8080/",
          "height": 329
        },
        "id": "vYtVSVk3uIZi",
        "outputId": "35ce4385-ea22-43af-efd5-c5048d49c83a"
      },
      "source": [
        "if __name__ == \"__main__\":\n",
        "    # load data from file\n",
        "    train_vec, train_lab, val_vec, val_lab, test_vec, test_lab = read_data('hw0train.txt','hw0validate.txt', 'hw0test.txt')\n",
        "    print('Dimenison of X: ',train_vec.shape)\n",
        "    # find w through gradient descent\n",
        "    w_sgd, losses_E = train_E(train_vec,train_lab)\n",
        "\n",
        "    # evaluate model on validation data\n",
        "    accuracy,m = evaluate(val_vec, val_lab, w_sgd)\n",
        "\n",
        "    print(\"Validation accuracy: {}\".format(accuracy))\n",
        "\n",
        "    # plot losses\n",
        "    plt.plot(losses_E[:20])\n",
        "    plt.xlabel(\"Iteration\")\n",
        "    plt.ylabel(\"Loss\")\n",
        "    plt.title(\"Loss plot over first 20 iteration\")\n",
        "    plt.show()"
      ],
      "execution_count": 53,
      "outputs": [
        {
          "output_type": "stream",
          "name": "stdout",
          "text": [
            "Dimenison of X:  torch.Size([2000, 57])\n",
            "Validation accuracy: 0.624\n"
          ]
        },
        {
          "output_type": "display_data",
          "data": {
            "image/png": "[encoded data removed]",
            "text/plain": [
              "<Figure size 432x288 with 1 Axes>"
            ]
          },
          "metadata": {
            "needs_background": "light"
          }
        }
      ]
    },
    {
      "cell_type": "markdown",
      "metadata": {
        "id": "iJeH-HUwvfu4"
      },
      "source": [
        "# We can see that out accuracy increase by more than 0.5% \n",
        "### lamda : 0.01\n",
        "### learning_rate : 0.1\n",
        "### threshold: 150\n",
        "### num_iteration : 60\n",
        "### optimizer used : Adagrad"
      ]
    },
    {
      "cell_type": "code",
      "metadata": {
        "id": "3-w02esZwseO"
      },
      "source": [
        ""
      ],
      "execution_count": null,
      "outputs": []
    }
  ]
}